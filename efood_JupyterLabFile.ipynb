{
 "cells": [
  {
   "cell_type": "markdown",
   "metadata": {},
   "source": [
    "## efood Case Study on User Segmentation"
   ]
  },
  {
   "cell_type": "markdown",
   "metadata": {},
   "source": [
    "We are given a data set of food orders for Januery excluding Athens and Thessaloniki. We have procced the orginal data set and have create a file that we will upload with the bellow variables:\n",
    "\n",
    "user: unique user id\n",
    "user_orders_freq: order frequency per user\n",
    "basket_value: avg basket value per user\n",
    "\n",
    "Woring the dataset above we need to:\n",
    "\n",
    "- Segment existing customers based on their frequency and order value. \n",
    "\n",
    "\n",
    "This Notebook will provide the data needed for our final deck. We wille xport the csv and do some final manipulation in excel if needed.\n"
   ]
  },
  {
   "cell_type": "markdown",
   "metadata": {},
   "source": [
    "## Import libraries"
   ]
  },
  {
   "cell_type": "code",
   "execution_count": 42,
   "metadata": {},
   "outputs": [],
   "source": [
    "# pandas is used for data manipulation\n",
    "import pandas as pd\n",
    "# numpy gives us access to some useful data structures\n",
    "import numpy as np\n",
    "\n",
    "# matplotlib allows us to do basic plots\n",
    "import matplotlib.pyplot as plt\n",
    "%matplotlib inline\n",
    "\n",
    "# Seaborn is another visualisation library\n",
    "import seaborn as sns\n",
    "\n",
    "# Import a scalar\n",
    "from sklearn.preprocessing import scale\n",
    "\n",
    "# Bring in k-means\n",
    "from sklearn.cluster import KMeans"
   ]
  },
  {
   "cell_type": "markdown",
   "metadata": {},
   "source": [
    "## Sourcing the data"
   ]
  },
  {
   "cell_type": "code",
   "execution_count": 43,
   "metadata": {},
   "outputs": [
    {
     "data": {
      "text/html": [
       "<div>\n",
       "<style scoped>\n",
       "    .dataframe tbody tr th:only-of-type {\n",
       "        vertical-align: middle;\n",
       "    }\n",
       "\n",
       "    .dataframe tbody tr th {\n",
       "        vertical-align: top;\n",
       "    }\n",
       "\n",
       "    .dataframe thead th {\n",
       "        text-align: right;\n",
       "    }\n",
       "</style>\n",
       "<table border=\"1\" class=\"dataframe\">\n",
       "  <thead>\n",
       "    <tr style=\"text-align: right;\">\n",
       "      <th></th>\n",
       "      <th>user</th>\n",
       "      <th>user_orders_freq</th>\n",
       "      <th>basket_value</th>\n",
       "    </tr>\n",
       "  </thead>\n",
       "  <tbody>\n",
       "    <tr>\n",
       "      <th>0</th>\n",
       "      <td>106414882</td>\n",
       "      <td>33</td>\n",
       "      <td>6.130303</td>\n",
       "    </tr>\n",
       "    <tr>\n",
       "      <th>1</th>\n",
       "      <td>50885108</td>\n",
       "      <td>31</td>\n",
       "      <td>5.316129</td>\n",
       "    </tr>\n",
       "    <tr>\n",
       "      <th>2</th>\n",
       "      <td>42623692</td>\n",
       "      <td>29</td>\n",
       "      <td>9.613793</td>\n",
       "    </tr>\n",
       "    <tr>\n",
       "      <th>3</th>\n",
       "      <td>12351828</td>\n",
       "      <td>28</td>\n",
       "      <td>5.264286</td>\n",
       "    </tr>\n",
       "    <tr>\n",
       "      <th>4</th>\n",
       "      <td>72180854</td>\n",
       "      <td>28</td>\n",
       "      <td>4.389286</td>\n",
       "    </tr>\n",
       "  </tbody>\n",
       "</table>\n",
       "</div>"
      ],
      "text/plain": [
       "        user  user_orders_freq  basket_value\n",
       "0  106414882                33      6.130303\n",
       "1   50885108                31      5.316129\n",
       "2   42623692                29      9.613793\n",
       "3   12351828                28      5.264286\n",
       "4   72180854                28      4.389286"
      ]
     },
     "execution_count": 43,
     "metadata": {},
     "output_type": "execute_result"
    }
   ],
   "source": [
    "# Import the data\n",
    "df = pd.read_csv('efood_userdatabasket.csv')\n",
    "df.head()"
   ]
  },
  {
   "cell_type": "markdown",
   "metadata": {},
   "source": [
    "## Exploring and transforming the data"
   ]
  },
  {
   "cell_type": "markdown",
   "metadata": {},
   "source": [
    "Now that we've imported our data, it's useful to run a few summary functions on it in order to understand it better."
   ]
  },
  {
   "cell_type": "code",
   "execution_count": 44,
   "metadata": {},
   "outputs": [
    {
     "name": "stdout",
     "output_type": "stream",
     "text": [
      "<class 'pandas.core.frame.DataFrame'>\n",
      "RangeIndex: 162954 entries, 0 to 162953\n",
      "Data columns (total 3 columns):\n",
      " #   Column            Non-Null Count   Dtype  \n",
      "---  ------            --------------   -----  \n",
      " 0   user              162954 non-null  int64  \n",
      " 1   user_orders_freq  162954 non-null  int64  \n",
      " 2   basket_value      162954 non-null  float64\n",
      "dtypes: float64(1), int64(2)\n",
      "memory usage: 3.7 MB\n"
     ]
    }
   ],
   "source": [
    "df.info()"
   ]
  },
  {
   "cell_type": "code",
   "execution_count": 45,
   "metadata": {},
   "outputs": [],
   "source": [
    "#we want to change the float for kmeans purposes\n",
    "df['basket_value'] = df['basket_value'].astype(int)"
   ]
  },
  {
   "cell_type": "code",
   "execution_count": 66,
   "metadata": {},
   "outputs": [
    {
     "name": "stdout",
     "output_type": "stream",
     "text": [
      "<class 'pandas.core.frame.DataFrame'>\n",
      "RangeIndex: 162954 entries, 0 to 162953\n",
      "Data columns (total 4 columns):\n",
      " #   Column            Non-Null Count   Dtype\n",
      "---  ------            --------------   -----\n",
      " 0   user              162954 non-null  int64\n",
      " 1   user_orders_freq  162954 non-null  int64\n",
      " 2   basket_value      162954 non-null  int64\n",
      " 3   cluster_1         162954 non-null  int32\n",
      "dtypes: int32(1), int64(3)\n",
      "memory usage: 4.4 MB\n"
     ]
    }
   ],
   "source": [
    "#quick check\n",
    "df.info()"
   ]
  },
  {
   "cell_type": "code",
   "execution_count": 47,
   "metadata": {},
   "outputs": [
    {
     "data": {
      "text/html": [
       "<div>\n",
       "<style scoped>\n",
       "    .dataframe tbody tr th:only-of-type {\n",
       "        vertical-align: middle;\n",
       "    }\n",
       "\n",
       "    .dataframe tbody tr th {\n",
       "        vertical-align: top;\n",
       "    }\n",
       "\n",
       "    .dataframe thead th {\n",
       "        text-align: right;\n",
       "    }\n",
       "</style>\n",
       "<table border=\"1\" class=\"dataframe\">\n",
       "  <thead>\n",
       "    <tr style=\"text-align: right;\">\n",
       "      <th></th>\n",
       "      <th>user</th>\n",
       "      <th>user_orders_freq</th>\n",
       "      <th>basket_value</th>\n",
       "    </tr>\n",
       "  </thead>\n",
       "  <tbody>\n",
       "    <tr>\n",
       "      <th>count</th>\n",
       "      <td>1.629540e+05</td>\n",
       "      <td>162954.000000</td>\n",
       "      <td>162954.000000</td>\n",
       "    </tr>\n",
       "    <tr>\n",
       "      <th>mean</th>\n",
       "      <td>8.210683e+07</td>\n",
       "      <td>2.454680</td>\n",
       "      <td>9.320452</td>\n",
       "    </tr>\n",
       "    <tr>\n",
       "      <th>std</th>\n",
       "      <td>5.623636e+07</td>\n",
       "      <td>2.306284</td>\n",
       "      <td>6.365620</td>\n",
       "    </tr>\n",
       "    <tr>\n",
       "      <th>min</th>\n",
       "      <td>2.746200e+04</td>\n",
       "      <td>1.000000</td>\n",
       "      <td>0.000000</td>\n",
       "    </tr>\n",
       "    <tr>\n",
       "      <th>25%</th>\n",
       "      <td>3.619502e+07</td>\n",
       "      <td>1.000000</td>\n",
       "      <td>5.000000</td>\n",
       "    </tr>\n",
       "    <tr>\n",
       "      <th>50%</th>\n",
       "      <td>7.306845e+07</td>\n",
       "      <td>2.000000</td>\n",
       "      <td>8.000000</td>\n",
       "    </tr>\n",
       "    <tr>\n",
       "      <th>75%</th>\n",
       "      <td>1.126347e+08</td>\n",
       "      <td>3.000000</td>\n",
       "      <td>12.000000</td>\n",
       "    </tr>\n",
       "    <tr>\n",
       "      <th>max</th>\n",
       "      <td>1.982852e+08</td>\n",
       "      <td>33.000000</td>\n",
       "      <td>134.000000</td>\n",
       "    </tr>\n",
       "  </tbody>\n",
       "</table>\n",
       "</div>"
      ],
      "text/plain": [
       "               user  user_orders_freq   basket_value\n",
       "count  1.629540e+05     162954.000000  162954.000000\n",
       "mean   8.210683e+07          2.454680       9.320452\n",
       "std    5.623636e+07          2.306284       6.365620\n",
       "min    2.746200e+04          1.000000       0.000000\n",
       "25%    3.619502e+07          1.000000       5.000000\n",
       "50%    7.306845e+07          2.000000       8.000000\n",
       "75%    1.126347e+08          3.000000      12.000000\n",
       "max    1.982852e+08         33.000000     134.000000"
      ]
     },
     "execution_count": 47,
     "metadata": {},
     "output_type": "execute_result"
    }
   ],
   "source": [
    "#some more info around our variables\n",
    "df.describe()"
   ]
  },
  {
   "cell_type": "markdown",
   "metadata": {},
   "source": [
    "we can see that we have 162,954 users with an avg basket value of 9.7 products per basket. We also see a 134 basket value "
   ]
  },
  {
   "cell_type": "code",
   "execution_count": 48,
   "metadata": {},
   "outputs": [
    {
     "data": {
      "text/plain": [
       "<AxesSubplot:xlabel='user_orders_freq', ylabel='basket_value'>"
      ]
     },
     "execution_count": 48,
     "metadata": {},
     "output_type": "execute_result"
    },
    {
     "data": {
      "image/png": "[encoded data removed]",
      "text/plain": [
       "<Figure size 432x288 with 1 Axes>"
      ]
     },
     "metadata": {
      "needs_background": "light"
     },
     "output_type": "display_data"
    }
   ],
   "source": [
    "# create scatter plot through seaborn in order to visualise our data\n",
    "sns.scatterplot(x=\"user_orders_freq\", y=\"basket_value\",data=df)"
   ]
  },
  {
   "cell_type": "markdown",
   "metadata": {},
   "source": [
    "We see that actually there are not big outliers into the dataset - as well that the main catgorisation is between high value order low frequency and the oposite"
   ]
  },
  {
   "cell_type": "markdown",
   "metadata": {},
   "source": [
    "## Scaling the data"
   ]
  },
  {
   "cell_type": "markdown",
   "metadata": {},
   "source": [
    "Before running any clustering analysis, it is important to [_scale_ our data](https://medium.com/greyatom/why-how-and-when-to-scale-your-features-4b30ab09db5e).\n",
    "\n",
    "\n",
    "from sklearn.preprocessing import scale"
   ]
  },
  {
   "cell_type": "code",
   "execution_count": 49,
   "metadata": {},
   "outputs": [],
   "source": [
    "#Import the scale method from sklearn.preprocessing in your libraries section\n",
    "from sklearn.preprocessing import scale"
   ]
  },
  {
   "cell_type": "code",
   "execution_count": 50,
   "metadata": {},
   "outputs": [
    {
     "name": "stdout",
     "output_type": "stream",
     "text": [
      "[[13.24443124 -0.5216244 ]\n",
      " [12.3772325  -0.67871877]\n",
      " [11.51003377 -0.05034127]\n",
      " ...\n",
      " [-0.63074853 -0.36453002]\n",
      " [-0.63074853  0.89222499]\n",
      " [-0.63074853 -0.99290753]]\n"
     ]
    }
   ],
   "source": [
    "#we scale so we make sure that the clustering is done correctly and not messed up - normalization - standarisation \n",
    "\n",
    "data_scaled = scale(df[['user_orders_freq','basket_value']])\n",
    "print (data_scaled)"
   ]
  },
  {
   "cell_type": "markdown",
   "metadata": {},
   "source": [
    "## Modelling with k-means"
   ]
  },
  {
   "cell_type": "markdown",
   "metadata": {},
   "source": [
    "To run the k-means algorithm, we will use the KMeans method from scikit-learn."
   ]
  },
  {
   "cell_type": "code",
   "execution_count": 51,
   "metadata": {},
   "outputs": [],
   "source": [
    "from sklearn.cluster import KMeans\n",
    "import numpy as np"
   ]
  },
  {
   "cell_type": "code",
   "execution_count": 52,
   "metadata": {},
   "outputs": [],
   "source": [
    "\n",
    "# we will create a list of the different values of k to test. \n",
    "num_clusters = [1,2,3,4,5,6,7,8,9,10]\n",
    "\n",
    "# we will create a kmeans model for each value of k. Could use a regular for loop, but let's use a \"list comprehension\"!\n",
    "kmeans_list = [KMeans(n_clusters = i) for i in num_clusters]\n",
    "\n",
    "# For each value of k, fit the model with our data and use the \"inertia\" method of KMeans to compute the WSS\n",
    "scores = [kmeans_list[i-1].fit(data_scaled).inertia_ for i in num_clusters]\n",
    "\n"
   ]
  },
  {
   "cell_type": "code",
   "execution_count": 53,
   "metadata": {},
   "outputs": [
    {
     "name": "stderr",
     "output_type": "stream",
     "text": [
      "/Users/sofokliszymnis/opt/anaconda3/lib/python3.8/site-packages/seaborn/_decorators.py:36: FutureWarning: Pass the following variables as keyword args: x, y. From version 0.12, the only valid positional argument will be `data`, and passing other arguments without an explicit keyword will result in an error or misinterpretation.\n",
      "  warnings.warn(\n"
     ]
    },
    {
     "data": {
      "text/plain": [
       "Text(0.5, 1.0, 'Elbow test')"
      ]
     },
     "execution_count": 53,
     "metadata": {},
     "output_type": "execute_result"
    },
    {
     "data": {
      "image/png": "[encoded data removed]",
      "text/plain": [
       "<Figure size 432x288 with 1 Axes>"
      ]
     },
     "metadata": {},
     "output_type": "display_data"
    }
   ],
   "source": [
    "# We can choose to set a grid\n",
    "sns.set_style('darkgrid')\n",
    "\n",
    "# Use the lineplot function from seaborn\n",
    "sns.lineplot(num_clusters, scores)\n",
    "\n",
    "# Adding a title and axis labels\n",
    "plt.xlabel(\"Number of clusters k\")\n",
    "plt.ylabel(\"Scores\")\n",
    "plt.title(\"Elbow test\")\n",
    "\n",
    "#we want to go were the steepness ends "
   ]
  },
  {
   "cell_type": "markdown",
   "metadata": {},
   "source": [
    "Its clear that the after that at the number 3 we get the \"elbow effect\", sign that we should aim for 3 clusters"
   ]
  },
  {
   "cell_type": "code",
   "execution_count": 54,
   "metadata": {},
   "outputs": [],
   "source": [
    "#Create teh model\n",
    "model = KMeans(n_clusters = 3, random_state= 123)\n",
    "#Fit the model to our data\n",
    "model.fit(data_scaled)\n",
    "# Save the results as a new column in our data\n",
    "df['cluster_1'] = model.labels_"
   ]
  },
  {
   "cell_type": "code",
   "execution_count": 55,
   "metadata": {},
   "outputs": [
    {
     "data": {
      "text/html": [
       "<div>\n",
       "<style scoped>\n",
       "    .dataframe tbody tr th:only-of-type {\n",
       "        vertical-align: middle;\n",
       "    }\n",
       "\n",
       "    .dataframe tbody tr th {\n",
       "        vertical-align: top;\n",
       "    }\n",
       "\n",
       "    .dataframe thead th {\n",
       "        text-align: right;\n",
       "    }\n",
       "</style>\n",
       "<table border=\"1\" class=\"dataframe\">\n",
       "  <thead>\n",
       "    <tr style=\"text-align: right;\">\n",
       "      <th></th>\n",
       "      <th>user</th>\n",
       "      <th>user_orders_freq</th>\n",
       "      <th>basket_value</th>\n",
       "      <th>cluster_1</th>\n",
       "    </tr>\n",
       "  </thead>\n",
       "  <tbody>\n",
       "    <tr>\n",
       "      <th>0</th>\n",
       "      <td>106414882</td>\n",
       "      <td>33</td>\n",
       "      <td>6</td>\n",
       "      <td>0</td>\n",
       "    </tr>\n",
       "    <tr>\n",
       "      <th>1</th>\n",
       "      <td>50885108</td>\n",
       "      <td>31</td>\n",
       "      <td>5</td>\n",
       "      <td>0</td>\n",
       "    </tr>\n",
       "    <tr>\n",
       "      <th>2</th>\n",
       "      <td>42623692</td>\n",
       "      <td>29</td>\n",
       "      <td>9</td>\n",
       "      <td>0</td>\n",
       "    </tr>\n",
       "    <tr>\n",
       "      <th>3</th>\n",
       "      <td>12351828</td>\n",
       "      <td>28</td>\n",
       "      <td>5</td>\n",
       "      <td>0</td>\n",
       "    </tr>\n",
       "    <tr>\n",
       "      <th>4</th>\n",
       "      <td>72180854</td>\n",
       "      <td>28</td>\n",
       "      <td>4</td>\n",
       "      <td>0</td>\n",
       "    </tr>\n",
       "  </tbody>\n",
       "</table>\n",
       "</div>"
      ],
      "text/plain": [
       "        user  user_orders_freq  basket_value  cluster_1\n",
       "0  106414882                33             6          0\n",
       "1   50885108                31             5          0\n",
       "2   42623692                29             9          0\n",
       "3   12351828                28             5          0\n",
       "4   72180854                28             4          0"
      ]
     },
     "execution_count": 55,
     "metadata": {},
     "output_type": "execute_result"
    }
   ],
   "source": [
    "#Quick chet on our data set with the clusters\n",
    "df.head()"
   ]
  },
  {
   "cell_type": "code",
   "execution_count": 56,
   "metadata": {},
   "outputs": [
    {
     "data": {
      "image/png": "[encoded data removed]",
      "text/plain": [
       "<Figure size 409x360 with 1 Axes>"
      ]
     },
     "metadata": {},
     "output_type": "display_data"
    }
   ],
   "source": [
    "#We want ot visualise our cluster in order to get an understanding of the initial grouping\n",
    "facet = sns.lmplot(data=df, x='user_orders_freq', y='basket_value',hue='cluster_1',\n",
    "fit_reg=False, legend=True, legend_out=True)"
   ]
  },
  {
   "cell_type": "markdown",
   "metadata": {},
   "source": [
    "So we can clearly see that the model has sperated our 3 groups in - 1) High frequency, low order value - 2) High order value low frequency - 3) Low order Value low Frequency"
   ]
  },
  {
   "cell_type": "markdown",
   "metadata": {},
   "source": [
    "Now we need to connect our table with our whole dataset that was provided in order to get more information around our clusters."
   ]
  },
  {
   "cell_type": "markdown",
   "metadata": {},
   "source": [
    "## Merging our cluster with our main dataset"
   ]
  },
  {
   "cell_type": "code",
   "execution_count": 57,
   "metadata": {},
   "outputs": [
    {
     "data": {
      "text/html": [
       "<div>\n",
       "<style scoped>\n",
       "    .dataframe tbody tr th:only-of-type {\n",
       "        vertical-align: middle;\n",
       "    }\n",
       "\n",
       "    .dataframe tbody tr th {\n",
       "        vertical-align: top;\n",
       "    }\n",
       "\n",
       "    .dataframe thead th {\n",
       "        text-align: right;\n",
       "    }\n",
       "</style>\n",
       "<table border=\"1\" class=\"dataframe\">\n",
       "  <thead>\n",
       "    <tr style=\"text-align: right;\">\n",
       "      <th></th>\n",
       "      <th>order_id</th>\n",
       "      <th>brand</th>\n",
       "      <th>submit_dt</th>\n",
       "      <th>user_id</th>\n",
       "      <th>shop_id</th>\n",
       "      <th>city</th>\n",
       "      <th>cuisine_parent</th>\n",
       "      <th>basket</th>\n",
       "    </tr>\n",
       "  </thead>\n",
       "  <tbody>\n",
       "    <tr>\n",
       "      <th>0</th>\n",
       "      <td>2821101907</td>\n",
       "      <td>GR-EFOOD</td>\n",
       "      <td>2021-01-06 17:39:51 UTC</td>\n",
       "      <td>27462</td>\n",
       "      <td>9348825</td>\n",
       "      <td>Χανιά Κρήτη</td>\n",
       "      <td>Traditional</td>\n",
       "      <td>10.6</td>\n",
       "    </tr>\n",
       "    <tr>\n",
       "      <th>1</th>\n",
       "      <td>2804826974</td>\n",
       "      <td>GR-EFOOD</td>\n",
       "      <td>2021-01-01 20:58:10 UTC</td>\n",
       "      <td>39238</td>\n",
       "      <td>41544867</td>\n",
       "      <td>Ρόδος</td>\n",
       "      <td>Italian</td>\n",
       "      <td>21.0</td>\n",
       "    </tr>\n",
       "    <tr>\n",
       "      <th>2</th>\n",
       "      <td>2897241626</td>\n",
       "      <td>GR-EFOOD</td>\n",
       "      <td>2021-01-27 15:57:21 UTC</td>\n",
       "      <td>39238</td>\n",
       "      <td>92205222</td>\n",
       "      <td>Ρόδος</td>\n",
       "      <td>Italian</td>\n",
       "      <td>14.0</td>\n",
       "    </tr>\n",
       "    <tr>\n",
       "      <th>3</th>\n",
       "      <td>2855674093</td>\n",
       "      <td>GR-EFOOD</td>\n",
       "      <td>2021-01-16 10:29:09 UTC</td>\n",
       "      <td>41354</td>\n",
       "      <td>165077697</td>\n",
       "      <td>Αγρίνιο</td>\n",
       "      <td>Breakfast</td>\n",
       "      <td>7.6</td>\n",
       "    </tr>\n",
       "    <tr>\n",
       "      <th>4</th>\n",
       "      <td>2867209239</td>\n",
       "      <td>GR-EFOOD</td>\n",
       "      <td>2021-01-19 13:02:02 UTC</td>\n",
       "      <td>41354</td>\n",
       "      <td>95344344</td>\n",
       "      <td>Αγρίνιο</td>\n",
       "      <td>Meat</td>\n",
       "      <td>8.0</td>\n",
       "    </tr>\n",
       "  </tbody>\n",
       "</table>\n",
       "</div>"
      ],
      "text/plain": [
       "     order_id     brand                submit_dt  user_id    shop_id  \\\n",
       "0  2821101907  GR-EFOOD  2021-01-06 17:39:51 UTC    27462    9348825   \n",
       "1  2804826974  GR-EFOOD  2021-01-01 20:58:10 UTC    39238   41544867   \n",
       "2  2897241626  GR-EFOOD  2021-01-27 15:57:21 UTC    39238   92205222   \n",
       "3  2855674093  GR-EFOOD  2021-01-16 10:29:09 UTC    41354  165077697   \n",
       "4  2867209239  GR-EFOOD  2021-01-19 13:02:02 UTC    41354   95344344   \n",
       "\n",
       "          city cuisine_parent  basket  \n",
       "0  Χανιά Κρήτη    Traditional    10.6  \n",
       "1        Ρόδος        Italian    21.0  \n",
       "2        Ρόδος        Italian    14.0  \n",
       "3      Αγρίνιο      Breakfast     7.6  \n",
       "4      Αγρίνιο           Meat     8.0  "
      ]
     },
     "execution_count": 57,
     "metadata": {},
     "output_type": "execute_result"
    }
   ],
   "source": [
    "# Import the dataset with complete data \n",
    "df2 = pd.read_csv('efood_jan_orders.csv')\n",
    "df2.head()"
   ]
  },
  {
   "cell_type": "code",
   "execution_count": 58,
   "metadata": {},
   "outputs": [
    {
     "data": {
      "text/html": [
       "<div>\n",
       "<style scoped>\n",
       "    .dataframe tbody tr th:only-of-type {\n",
       "        vertical-align: middle;\n",
       "    }\n",
       "\n",
       "    .dataframe tbody tr th {\n",
       "        vertical-align: top;\n",
       "    }\n",
       "\n",
       "    .dataframe thead th {\n",
       "        text-align: right;\n",
       "    }\n",
       "</style>\n",
       "<table border=\"1\" class=\"dataframe\">\n",
       "  <thead>\n",
       "    <tr style=\"text-align: right;\">\n",
       "      <th></th>\n",
       "      <th>user</th>\n",
       "      <th>user_orders_freq</th>\n",
       "      <th>basket_value</th>\n",
       "      <th>cluster_1</th>\n",
       "    </tr>\n",
       "  </thead>\n",
       "  <tbody>\n",
       "    <tr>\n",
       "      <th>0</th>\n",
       "      <td>106414882</td>\n",
       "      <td>33</td>\n",
       "      <td>6</td>\n",
       "      <td>0</td>\n",
       "    </tr>\n",
       "    <tr>\n",
       "      <th>1</th>\n",
       "      <td>50885108</td>\n",
       "      <td>31</td>\n",
       "      <td>5</td>\n",
       "      <td>0</td>\n",
       "    </tr>\n",
       "    <tr>\n",
       "      <th>2</th>\n",
       "      <td>42623692</td>\n",
       "      <td>29</td>\n",
       "      <td>9</td>\n",
       "      <td>0</td>\n",
       "    </tr>\n",
       "    <tr>\n",
       "      <th>3</th>\n",
       "      <td>12351828</td>\n",
       "      <td>28</td>\n",
       "      <td>5</td>\n",
       "      <td>0</td>\n",
       "    </tr>\n",
       "    <tr>\n",
       "      <th>4</th>\n",
       "      <td>72180854</td>\n",
       "      <td>28</td>\n",
       "      <td>4</td>\n",
       "      <td>0</td>\n",
       "    </tr>\n",
       "  </tbody>\n",
       "</table>\n",
       "</div>"
      ],
      "text/plain": [
       "        user  user_orders_freq  basket_value  cluster_1\n",
       "0  106414882                33             6          0\n",
       "1   50885108                31             5          0\n",
       "2   42623692                29             9          0\n",
       "3   12351828                28             5          0\n",
       "4   72180854                28             4          0"
      ]
     },
     "execution_count": 58,
     "metadata": {},
     "output_type": "execute_result"
    }
   ],
   "source": [
    "#quick check on our original file and make sure we merge on the right variables \n",
    "df.head()"
   ]
  },
  {
   "cell_type": "code",
   "execution_count": 59,
   "metadata": {},
   "outputs": [],
   "source": [
    "#merging our original df with our complete dataset\n",
    "\n",
    "df3 = pd.merge(\n",
    "    df2,\n",
    "    df,\n",
    "    how=\"left\",\n",
    "    left_on='user_id',\n",
    "    right_on='user',\n",
    "    left_index=False,\n",
    "    right_index=False,\n",
    "    sort=True,\n",
    "    suffixes=(\"_x\", \"_y\"),\n",
    "    copy=True,\n",
    "    indicator=False,\n",
    "    validate=None,\n",
    ")"
   ]
  },
  {
   "cell_type": "code",
   "execution_count": 61,
   "metadata": {},
   "outputs": [
    {
     "data": {
      "text/html": [
       "<div>\n",
       "<style scoped>\n",
       "    .dataframe tbody tr th:only-of-type {\n",
       "        vertical-align: middle;\n",
       "    }\n",
       "\n",
       "    .dataframe tbody tr th {\n",
       "        vertical-align: top;\n",
       "    }\n",
       "\n",
       "    .dataframe thead th {\n",
       "        text-align: right;\n",
       "    }\n",
       "</style>\n",
       "<table border=\"1\" class=\"dataframe\">\n",
       "  <thead>\n",
       "    <tr style=\"text-align: right;\">\n",
       "      <th></th>\n",
       "      <th>order_id</th>\n",
       "      <th>brand</th>\n",
       "      <th>submit_dt</th>\n",
       "      <th>user_id</th>\n",
       "      <th>shop_id</th>\n",
       "      <th>city</th>\n",
       "      <th>cuisine_parent</th>\n",
       "      <th>basket</th>\n",
       "      <th>user</th>\n",
       "      <th>user_orders_freq</th>\n",
       "      <th>basket_value</th>\n",
       "      <th>cluster_1</th>\n",
       "    </tr>\n",
       "  </thead>\n",
       "  <tbody>\n",
       "    <tr>\n",
       "      <th>0</th>\n",
       "      <td>2821101907</td>\n",
       "      <td>GR-EFOOD</td>\n",
       "      <td>2021-01-06 17:39:51 UTC</td>\n",
       "      <td>27462</td>\n",
       "      <td>9348825</td>\n",
       "      <td>Χανιά Κρήτη</td>\n",
       "      <td>Traditional</td>\n",
       "      <td>10.6</td>\n",
       "      <td>27462</td>\n",
       "      <td>1</td>\n",
       "      <td>10</td>\n",
       "      <td>2</td>\n",
       "    </tr>\n",
       "    <tr>\n",
       "      <th>1</th>\n",
       "      <td>2804826974</td>\n",
       "      <td>GR-EFOOD</td>\n",
       "      <td>2021-01-01 20:58:10 UTC</td>\n",
       "      <td>39238</td>\n",
       "      <td>41544867</td>\n",
       "      <td>Ρόδος</td>\n",
       "      <td>Italian</td>\n",
       "      <td>21.0</td>\n",
       "      <td>39238</td>\n",
       "      <td>2</td>\n",
       "      <td>17</td>\n",
       "      <td>1</td>\n",
       "    </tr>\n",
       "    <tr>\n",
       "      <th>2</th>\n",
       "      <td>2897241626</td>\n",
       "      <td>GR-EFOOD</td>\n",
       "      <td>2021-01-27 15:57:21 UTC</td>\n",
       "      <td>39238</td>\n",
       "      <td>92205222</td>\n",
       "      <td>Ρόδος</td>\n",
       "      <td>Italian</td>\n",
       "      <td>14.0</td>\n",
       "      <td>39238</td>\n",
       "      <td>2</td>\n",
       "      <td>17</td>\n",
       "      <td>1</td>\n",
       "    </tr>\n",
       "    <tr>\n",
       "      <th>3</th>\n",
       "      <td>2855674093</td>\n",
       "      <td>GR-EFOOD</td>\n",
       "      <td>2021-01-16 10:29:09 UTC</td>\n",
       "      <td>41354</td>\n",
       "      <td>165077697</td>\n",
       "      <td>Αγρίνιο</td>\n",
       "      <td>Breakfast</td>\n",
       "      <td>7.6</td>\n",
       "      <td>41354</td>\n",
       "      <td>4</td>\n",
       "      <td>7</td>\n",
       "      <td>2</td>\n",
       "    </tr>\n",
       "    <tr>\n",
       "      <th>4</th>\n",
       "      <td>2867209239</td>\n",
       "      <td>GR-EFOOD</td>\n",
       "      <td>2021-01-19 13:02:02 UTC</td>\n",
       "      <td>41354</td>\n",
       "      <td>95344344</td>\n",
       "      <td>Αγρίνιο</td>\n",
       "      <td>Meat</td>\n",
       "      <td>8.0</td>\n",
       "      <td>41354</td>\n",
       "      <td>4</td>\n",
       "      <td>7</td>\n",
       "      <td>2</td>\n",
       "    </tr>\n",
       "  </tbody>\n",
       "</table>\n",
       "</div>"
      ],
      "text/plain": [
       "     order_id     brand                submit_dt  user_id    shop_id  \\\n",
       "0  2821101907  GR-EFOOD  2021-01-06 17:39:51 UTC    27462    9348825   \n",
       "1  2804826974  GR-EFOOD  2021-01-01 20:58:10 UTC    39238   41544867   \n",
       "2  2897241626  GR-EFOOD  2021-01-27 15:57:21 UTC    39238   92205222   \n",
       "3  2855674093  GR-EFOOD  2021-01-16 10:29:09 UTC    41354  165077697   \n",
       "4  2867209239  GR-EFOOD  2021-01-19 13:02:02 UTC    41354   95344344   \n",
       "\n",
       "          city cuisine_parent  basket   user  user_orders_freq  basket_value  \\\n",
       "0  Χανιά Κρήτη    Traditional    10.6  27462                 1            10   \n",
       "1        Ρόδος        Italian    21.0  39238                 2            17   \n",
       "2        Ρόδος        Italian    14.0  39238                 2            17   \n",
       "3      Αγρίνιο      Breakfast     7.6  41354                 4             7   \n",
       "4      Αγρίνιο           Meat     8.0  41354                 4             7   \n",
       "\n",
       "   cluster_1  \n",
       "0          2  \n",
       "1          1  \n",
       "2          1  \n",
       "3          2  \n",
       "4          2  "
      ]
     },
     "execution_count": 61,
     "metadata": {},
     "output_type": "execute_result"
    }
   ],
   "source": [
    "#checking our new df3\n",
    "df3.head()"
   ]
  },
  {
   "cell_type": "code",
   "execution_count": 62,
   "metadata": {},
   "outputs": [],
   "source": [
    "#we want to drop quickly some columns that we will not need or are dublicates\n",
    "df3 = df3.drop(['user', 'basket_value','user_orders_freq'], axis=1)"
   ]
  },
  {
   "cell_type": "code",
   "execution_count": 63,
   "metadata": {},
   "outputs": [
    {
     "data": {
      "text/html": [
       "<div>\n",
       "<style scoped>\n",
       "    .dataframe tbody tr th:only-of-type {\n",
       "        vertical-align: middle;\n",
       "    }\n",
       "\n",
       "    .dataframe tbody tr th {\n",
       "        vertical-align: top;\n",
       "    }\n",
       "\n",
       "    .dataframe thead th {\n",
       "        text-align: right;\n",
       "    }\n",
       "</style>\n",
       "<table border=\"1\" class=\"dataframe\">\n",
       "  <thead>\n",
       "    <tr style=\"text-align: right;\">\n",
       "      <th></th>\n",
       "      <th>order_id</th>\n",
       "      <th>brand</th>\n",
       "      <th>submit_dt</th>\n",
       "      <th>user_id</th>\n",
       "      <th>shop_id</th>\n",
       "      <th>city</th>\n",
       "      <th>cuisine_parent</th>\n",
       "      <th>basket</th>\n",
       "      <th>cluster_1</th>\n",
       "    </tr>\n",
       "  </thead>\n",
       "  <tbody>\n",
       "    <tr>\n",
       "      <th>0</th>\n",
       "      <td>2821101907</td>\n",
       "      <td>GR-EFOOD</td>\n",
       "      <td>2021-01-06 17:39:51 UTC</td>\n",
       "      <td>27462</td>\n",
       "      <td>9348825</td>\n",
       "      <td>Χανιά Κρήτη</td>\n",
       "      <td>Traditional</td>\n",
       "      <td>10.6</td>\n",
       "      <td>2</td>\n",
       "    </tr>\n",
       "    <tr>\n",
       "      <th>1</th>\n",
       "      <td>2804826974</td>\n",
       "      <td>GR-EFOOD</td>\n",
       "      <td>2021-01-01 20:58:10 UTC</td>\n",
       "      <td>39238</td>\n",
       "      <td>41544867</td>\n",
       "      <td>Ρόδος</td>\n",
       "      <td>Italian</td>\n",
       "      <td>21.0</td>\n",
       "      <td>1</td>\n",
       "    </tr>\n",
       "    <tr>\n",
       "      <th>2</th>\n",
       "      <td>2897241626</td>\n",
       "      <td>GR-EFOOD</td>\n",
       "      <td>2021-01-27 15:57:21 UTC</td>\n",
       "      <td>39238</td>\n",
       "      <td>92205222</td>\n",
       "      <td>Ρόδος</td>\n",
       "      <td>Italian</td>\n",
       "      <td>14.0</td>\n",
       "      <td>1</td>\n",
       "    </tr>\n",
       "    <tr>\n",
       "      <th>3</th>\n",
       "      <td>2855674093</td>\n",
       "      <td>GR-EFOOD</td>\n",
       "      <td>2021-01-16 10:29:09 UTC</td>\n",
       "      <td>41354</td>\n",
       "      <td>165077697</td>\n",
       "      <td>Αγρίνιο</td>\n",
       "      <td>Breakfast</td>\n",
       "      <td>7.6</td>\n",
       "      <td>2</td>\n",
       "    </tr>\n",
       "    <tr>\n",
       "      <th>4</th>\n",
       "      <td>2867209239</td>\n",
       "      <td>GR-EFOOD</td>\n",
       "      <td>2021-01-19 13:02:02 UTC</td>\n",
       "      <td>41354</td>\n",
       "      <td>95344344</td>\n",
       "      <td>Αγρίνιο</td>\n",
       "      <td>Meat</td>\n",
       "      <td>8.0</td>\n",
       "      <td>2</td>\n",
       "    </tr>\n",
       "  </tbody>\n",
       "</table>\n",
       "</div>"
      ],
      "text/plain": [
       "     order_id     brand                submit_dt  user_id    shop_id  \\\n",
       "0  2821101907  GR-EFOOD  2021-01-06 17:39:51 UTC    27462    9348825   \n",
       "1  2804826974  GR-EFOOD  2021-01-01 20:58:10 UTC    39238   41544867   \n",
       "2  2897241626  GR-EFOOD  2021-01-27 15:57:21 UTC    39238   92205222   \n",
       "3  2855674093  GR-EFOOD  2021-01-16 10:29:09 UTC    41354  165077697   \n",
       "4  2867209239  GR-EFOOD  2021-01-19 13:02:02 UTC    41354   95344344   \n",
       "\n",
       "          city cuisine_parent  basket  cluster_1  \n",
       "0  Χανιά Κρήτη    Traditional    10.6          2  \n",
       "1        Ρόδος        Italian    21.0          1  \n",
       "2        Ρόδος        Italian    14.0          1  \n",
       "3      Αγρίνιο      Breakfast     7.6          2  \n",
       "4      Αγρίνιο           Meat     8.0          2  "
      ]
     },
     "execution_count": 63,
     "metadata": {},
     "output_type": "execute_result"
    }
   ],
   "source": [
    "#checking again our final df3\n",
    "df3.head()"
   ]
  },
  {
   "cell_type": "code",
   "execution_count": 64,
   "metadata": {},
   "outputs": [
    {
     "name": "stdout",
     "output_type": "stream",
     "text": [
      "<class 'pandas.core.frame.DataFrame'>\n",
      "Int64Index: 400000 entries, 0 to 399999\n",
      "Data columns (total 9 columns):\n",
      " #   Column          Non-Null Count   Dtype  \n",
      "---  ------          --------------   -----  \n",
      " 0   order_id        400000 non-null  int64  \n",
      " 1   brand           400000 non-null  object \n",
      " 2   submit_dt       400000 non-null  object \n",
      " 3   user_id         400000 non-null  int64  \n",
      " 4   shop_id         400000 non-null  int64  \n",
      " 5   city            400000 non-null  object \n",
      " 6   cuisine_parent  400000 non-null  object \n",
      " 7   basket          400000 non-null  float64\n",
      " 8   cluster_1       400000 non-null  int32  \n",
      "dtypes: float64(1), int32(1), int64(3), object(4)\n",
      "memory usage: 29.0+ MB\n"
     ]
    }
   ],
   "source": [
    "#making sure the data look ok\n",
    "df3.info()"
   ]
  },
  {
   "cell_type": "markdown",
   "metadata": {},
   "source": [
    "## Now we can export are data set and do some small extra manipulations in excel. A true data scientist would continue here, but as I havent written code for over 2 years, I believe its safer for me to do the small bites in excel. :)"
   ]
  },
  {
   "cell_type": "code",
   "execution_count": 65,
   "metadata": {},
   "outputs": [],
   "source": [
    "#each user should specify the path they want to store the excel file\n",
    "df3.to_csv(r'/Users/sofokliszymnis/Desktop/efoodclusters.csv', index = False)"
   ]
  },
  {
   "cell_type": "code",
   "execution_count": null,
   "metadata": {},
   "outputs": [],
   "source": []
  }
 ],
 "metadata": {
  "kernelspec": {
   "display_name": "Python 3",
   "language": "python",
   "name": "python3"
  },
  "language_info": {
   "codemirror_mode": {
    "name": "ipython",
    "version": 3
   },
   "file_extension": ".py",
   "mimetype": "text/x-python",
   "name": "python",
   "nbconvert_exporter": "python",
   "pygments_lexer": "ipython3",
   "version": "3.8.5"
  }
 },
 "nbformat": 4,
 "nbformat_minor": 4
}
